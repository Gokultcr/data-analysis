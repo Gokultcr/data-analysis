#Basic_Data_Analysis_with_Covid-19_dataset 
#import packages

import numpy as np    # linear algebra
import pandas as pd   # data processing, CSV file I/O (e.g. pd.read_csv)
import matplotlib.pyplot as plt  # ploting
import seaborn as sns  # uses matplotlib to draw its plots

import os
print(os.listdir())  # used to get the list of all files and directories

import warnings
warnings.filterwarnings('ignore') # Writes a warning to a file

import statsmodels.api as sm       # conducting statistical tests
import statsmodels.stats.multicomp

from statsmodels.formula.api import ols  # Create a Model from a formula and dataframe
from statsmodels.stats.anova import anova_lm

#importing data
data = pd.read_csv("/kaggle/input/lastdata/covidprosker.csv")

#drop unwanted columns
data.drop(["District"], axis = 1, inplace = True) 

#shape and type of the dataset
type(data)
data.shape

#head of the dataelements
data.head()

#describe the data
data.describe() #used to view some basic statistical details like percentile, mean, std etc

data.info() #concise summary of a DataFrame

#sample
data.sample(5) #subset of data points to identify patterns and trends

data.isnull().sum() # number of missing values in the data set

print(data.corr()["Status"].abs().sort_values(ascending=False))

#ploting
ax=sns.countplot(data["Status"])
target_temp = data.Status.value_counts()
print(target_temp)

from matplotlib.pyplot import show
ax=sns.countplot(data["Status"])
target_temp=data.Status.value_counts()
total = float(len("Status"))
print(target_temp)
#for_showing_the_percentage
for p in ax.patches:
    height = p.get_height()
    ax.text(p.get_x()+p.get_width()/2.,
            height + 3,
            '{:1.2f}'.format(height/total),
            ha="center")

#Calculate the percentages
print("Percentage of Patients without Corona:"+str(round(target_temp[0]*100/88,3)))
print("Percentage of Patients with Corona:"+str(round(target_temp[1]*100/88,3)))
print("Percentage of Corona Patients recoverd:"+str(round(target_temp[2]*100/88,3)))

#bar plot of Gender
sns.barplot(data["Gender"],data["Status"])

 
# Basic correlogram
sns.pairplot(data)
sns.show()

def plotAge():
    facet_grid = sns.FacetGrid(data, hue='Status')
    facet_grid.map(sns.kdeplot, "Age", shade=True, ax=axes[0])
    legend_labels = ['disease false', 'disease true','Recoverd' ]
    for t, l in zip(axes[0].get_legend().texts, legend_labels):
        t.set_text(l)
        axes[0].set(xlabel='Age', ylabel='density')

    avg = data[["Age", "Status"]].groupby(['Age'], as_index=False).mean()
    sns.barplot(x='Age', y='Status', data=avg, ax=axes[1])
    axes[1].set(xlabel='Age', ylabel='disease probability')

    plt.clf()
fig_age, axes = plt.subplots(nrows=2, ncols=1, figsize=(7, 8))

plotAge()

#count the percentage from the data

countFemale = len(data[data.Gender == 0])
countMale = len(data[data.Gender == 1])
print("Percentage of Female Patients:{:.2f}%".format((countFemale)/(len(data.Gender))*100))
print("Percentage of Male Patients:{:.2f}%".format((countMale)/(len(data.Gender))*100))

#cross tabing diffeent features

pd.crosstab(data.Age,data.Status).plot(kind="bar",figsize=(20,6))
plt.title('Corona Frequency for Ages')
plt.xlabel('Age')
plt.ylabel('Frequency')
plt.savefig('heartDiseaseAndAges.png')
plt.show()


pd.crosstab(data.Gender,data.Status).plot(kind="bar",figsize=(20,10),color=['blue','#AA1111' ])
plt.title('Corona Frequency for Sex')
plt.xlabel('Sex (0 = Female, 1 = Male)')
plt.xticks(rotation=0)
plt.legend(["Don't have Disease", "Have Disease"])
plt.ylabel('Frequency')
plt.show()

