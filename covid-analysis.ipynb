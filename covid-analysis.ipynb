#Basic_Data_Analysis_with_Covid-19_dataset 
#import packages

import numpy as np    # linear algebra
import pandas as pd   # data processing, CSV file I/O (e.g. pd.read_csv)
import matplotlib.pyplot as plt  # ploting
import seaborn as sns  # uses matplotlib to draw its plots

import os
print(os.listdir())  # used to get the list of all files and directories

import warnings
warnings.filterwarnings('ignore') # Writes a warning to a file

import statsmodels.api as sm       # conducting statistical tests
import statsmodels.stats.multicomp

from statsmodels.formula.api import ols  # Create a Model from a formula and dataframe
from statsmodels.stats.anova import anova_lm

#importing data
data = pd.read_csv("/kaggle/input/lastdata/covidprosker.csv")

#drop unwanted columns
data.drop(["District"], axis = 1, inplace = True) 

#shape and type of the dataset
type(data)
data.shape

#head of the dataelements
data.head()

#describe the data
data.describe() #used to view some basic statistical details like percentile, mean, std etc

data.info() #concise summary of a DataFrame

#sample
data.sample(5) #subset of data points to identify patterns and trends

data.isnull().sum() # number of missing values in the data set

print(data.corr()["Status"].abs().sort_values(ascending=False))

#ploting
ax=sns.countplot(data["Status"])
target_temp = data.Status.value_counts()
print(target_temp)

from matplotlib.pyplot import show
ax=sns.countplot(data["Status"])
target_temp=data.Status.value_counts()
total = float(len("Status"))
print(target_temp)
#for_showing_the_percentage
for p in ax.patches:
    height = p.get_height()
    ax.text(p.get_x()+p.get_width()/2.,
            height + 3,
            '{:1.2f}'.format(height/total),
            ha="center")

#Calculate the percentages
print("Percentage of Patients without Corona:"+str(round(target_temp[0]*100/88,3)))
print("Percentage of Patients with Corona:"+str(round(target_temp[1]*100/88,3)))
print("Percentage of Corona Patients recoverd:"+str(round(target_temp[2]*100/88,3)))

#bar plot of Gender
sns.barplot(data["Gender"],data["Status"])
